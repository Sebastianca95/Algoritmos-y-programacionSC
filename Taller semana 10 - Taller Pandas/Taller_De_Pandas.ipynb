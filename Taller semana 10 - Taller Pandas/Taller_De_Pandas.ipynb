{
  "cells": [
    {
      "cell_type": "markdown",
      "metadata": {
        "id": "qenHNw6vMlK6"
      },
      "source": [
        "#Taller Pandas: Operaciones con Pandas\n",
        "\n",
        "<img src=\"https://upload.wikimedia.org/wikipedia/commons/thumb/e/ed/Pandas_logo.svg/1200px-Pandas_logo.svg.png\" width=\"50%\" style=\"text-align:center\">\n",
        "\n",
        "---"
      ]
    },
    {
      "cell_type": "code",
      "execution_count": 2,
      "metadata": {
        "colab": {
          "base_uri": "https://localhost:8080/"
        },
        "id": "WM2P_37yNGPr",
        "outputId": "f68340e5-7719-442b-d81b-ed0a977cdd47"
      },
      "outputs": [
        {
          "name": "stdout",
          "output_type": "stream",
          "text": [
            "<class 'pandas.core.frame.DataFrame'>\n",
            "Index: 1122 entries, 404 to 103\n",
            "Data columns (total 5 columns):\n",
            " #   Column           Non-Null Count  Dtype \n",
            "---  ------           --------------  ----- \n",
            " 0   nombre           1122 non-null   object\n",
            " 1   poblaciónUrbana  1122 non-null   int64 \n",
            " 2   poblaciónRural   1122 non-null   int64 \n",
            " 3   departamento     1122 non-null   object\n",
            " 4   esCapital        1122 non-null   int64 \n",
            "dtypes: int64(3), object(2)\n",
            "memory usage: 52.6+ KB\n"
          ]
        }
      ],
      "source": [
        "# Vamos a crear el DataFrame a partir de los datos de los municipios de Colombia\n",
        "import pandas as pd\n",
        "import math\n",
        "\n",
        "muns = pd.read_csv(\"https://raw.githubusercontent.com/BrayanTorres2/Algoritmos-y-programacion/refs/heads/main/Data/municipios.csv\", index_col=0)\n",
        "muns.info()"
      ]
    },
    {
      "cell_type": "code",
      "execution_count": 3,
      "metadata": {
        "colab": {
          "base_uri": "https://localhost:8080/",
          "height": 237
        },
        "id": "e5cxWltYQmPX",
        "outputId": "36235886-d811-443e-ed02-78d33d18a6d3"
      },
      "outputs": [
        {
          "data": {
            "text/html": [
              "<div>\n",
              "<style scoped>\n",
              "    .dataframe tbody tr th:only-of-type {\n",
              "        vertical-align: middle;\n",
              "    }\n",
              "\n",
              "    .dataframe tbody tr th {\n",
              "        vertical-align: top;\n",
              "    }\n",
              "\n",
              "    .dataframe thead th {\n",
              "        text-align: right;\n",
              "    }\n",
              "</style>\n",
              "<table border=\"1\" class=\"dataframe\">\n",
              "  <thead>\n",
              "    <tr style=\"text-align: right;\">\n",
              "      <th></th>\n",
              "      <th>nombre</th>\n",
              "      <th>poblaciónUrbana</th>\n",
              "      <th>poblaciónRural</th>\n",
              "      <th>departamento</th>\n",
              "      <th>esCapital</th>\n",
              "    </tr>\n",
              "    <tr>\n",
              "      <th>código</th>\n",
              "      <th></th>\n",
              "      <th></th>\n",
              "      <th></th>\n",
              "      <th></th>\n",
              "      <th></th>\n",
              "    </tr>\n",
              "  </thead>\n",
              "  <tbody>\n",
              "    <tr>\n",
              "      <th>404</th>\n",
              "      <td>Abejorral</td>\n",
              "      <td>6724</td>\n",
              "      <td>12471</td>\n",
              "      <td>Antioquia</td>\n",
              "      <td>0</td>\n",
              "    </tr>\n",
              "    <tr>\n",
              "      <th>178</th>\n",
              "      <td>Ábrego</td>\n",
              "      <td>17287</td>\n",
              "      <td>21076</td>\n",
              "      <td>Norte de Santander</td>\n",
              "      <td>0</td>\n",
              "    </tr>\n",
              "    <tr>\n",
              "      <th>1090</th>\n",
              "      <td>Abriaquí</td>\n",
              "      <td>738</td>\n",
              "      <td>1337</td>\n",
              "      <td>Antioquia</td>\n",
              "      <td>0</td>\n",
              "    </tr>\n",
              "    <tr>\n",
              "      <th>89</th>\n",
              "      <td>Acacías</td>\n",
              "      <td>60918</td>\n",
              "      <td>11130</td>\n",
              "      <td>Meta</td>\n",
              "      <td>0</td>\n",
              "    </tr>\n",
              "    <tr>\n",
              "      <th>705</th>\n",
              "      <td>Acandí</td>\n",
              "      <td>5259</td>\n",
              "      <td>4246</td>\n",
              "      <td>Chocó</td>\n",
              "      <td>0</td>\n",
              "    </tr>\n",
              "  </tbody>\n",
              "</table>\n",
              "</div>"
            ],
            "text/plain": [
              "           nombre  poblaciónUrbana  poblaciónRural        departamento  \\\n",
              "código                                                                   \n",
              "404     Abejorral             6724           12471           Antioquia   \n",
              "178        Ábrego            17287           21076  Norte de Santander   \n",
              "1090     Abriaquí              738            1337           Antioquia   \n",
              "89        Acacías            60918           11130                Meta   \n",
              "705        Acandí             5259            4246               Chocó   \n",
              "\n",
              "        esCapital  \n",
              "código             \n",
              "404             0  \n",
              "178             0  \n",
              "1090            0  \n",
              "89              0  \n",
              "705             0  "
            ]
          },
          "execution_count": 3,
          "metadata": {},
          "output_type": "execute_result"
        }
      ],
      "source": [
        "# Presentar la información de los primeros 5 municipios del dataframe\n",
        "muns.head()"
      ]
    },
    {
      "cell_type": "code",
      "execution_count": 4,
      "metadata": {
        "colab": {
          "base_uri": "https://localhost:8080/",
          "height": 790
        },
        "id": "00f31GRCRBJL",
        "outputId": "f9b4a74e-eb03-41c7-ecea-f8418e42c2a3"
      },
      "outputs": [
        {
          "data": {
            "text/html": [
              "<div>\n",
              "<style scoped>\n",
              "    .dataframe tbody tr th:only-of-type {\n",
              "        vertical-align: middle;\n",
              "    }\n",
              "\n",
              "    .dataframe tbody tr th {\n",
              "        vertical-align: top;\n",
              "    }\n",
              "\n",
              "    .dataframe thead th {\n",
              "        text-align: right;\n",
              "    }\n",
              "</style>\n",
              "<table border=\"1\" class=\"dataframe\">\n",
              "  <thead>\n",
              "    <tr style=\"text-align: right;\">\n",
              "      <th></th>\n",
              "      <th>poblaciónUrbana</th>\n",
              "      <th>poblaciónRural</th>\n",
              "      <th>esCapital</th>\n",
              "    </tr>\n",
              "  </thead>\n",
              "  <tbody>\n",
              "    <tr>\n",
              "      <th>count</th>\n",
              "      <td>1.122000e+03</td>\n",
              "      <td>1122.000000</td>\n",
              "      <td>1122.000000</td>\n",
              "    </tr>\n",
              "    <tr>\n",
              "      <th>mean</th>\n",
              "      <td>3.363703e+04</td>\n",
              "      <td>10198.901961</td>\n",
              "      <td>0.028520</td>\n",
              "    </tr>\n",
              "    <tr>\n",
              "      <th>std</th>\n",
              "      <td>2.715733e+05</td>\n",
              "      <td>11719.567160</td>\n",
              "      <td>0.166529</td>\n",
              "    </tr>\n",
              "    <tr>\n",
              "      <th>min</th>\n",
              "      <td>0.000000e+00</td>\n",
              "      <td>182.000000</td>\n",
              "      <td>0.000000</td>\n",
              "    </tr>\n",
              "    <tr>\n",
              "      <th>25%</th>\n",
              "      <td>1.895500e+03</td>\n",
              "      <td>3697.250000</td>\n",
              "      <td>0.000000</td>\n",
              "    </tr>\n",
              "    <tr>\n",
              "      <th>50%</th>\n",
              "      <td>4.995000e+03</td>\n",
              "      <td>6738.000000</td>\n",
              "      <td>0.000000</td>\n",
              "    </tr>\n",
              "    <tr>\n",
              "      <th>75%</th>\n",
              "      <td>1.306500e+04</td>\n",
              "      <td>12722.000000</td>\n",
              "      <td>0.000000</td>\n",
              "    </tr>\n",
              "    <tr>\n",
              "      <th>max</th>\n",
              "      <td>8.063991e+06</td>\n",
              "      <td>173143.000000</td>\n",
              "      <td>1.000000</td>\n",
              "    </tr>\n",
              "  </tbody>\n",
              "</table>\n",
              "</div>"
            ],
            "text/plain": [
              "       poblaciónUrbana  poblaciónRural    esCapital\n",
              "count     1.122000e+03     1122.000000  1122.000000\n",
              "mean      3.363703e+04    10198.901961     0.028520\n",
              "std       2.715733e+05    11719.567160     0.166529\n",
              "min       0.000000e+00      182.000000     0.000000\n",
              "25%       1.895500e+03     3697.250000     0.000000\n",
              "50%       4.995000e+03     6738.000000     0.000000\n",
              "75%       1.306500e+04    12722.000000     0.000000\n",
              "max       8.063991e+06   173143.000000     1.000000"
            ]
          },
          "execution_count": 4,
          "metadata": {},
          "output_type": "execute_result"
        }
      ],
      "source": [
        "# Presente la estadística descriptiva de la información del dataframe\n",
        "muns.describe()"
      ]
    },
    {
      "cell_type": "code",
      "execution_count": 5,
      "metadata": {
        "colab": {
          "base_uri": "https://localhost:8080/"
        },
        "id": "r2puX6jFOFph",
        "outputId": "9578ef5d-e897-4121-fd2d-8fbe666e6158"
      },
      "outputs": [
        {
          "name": "stdout",
          "output_type": "stream",
          "text": [
            "Cantidad de municipios = 1122\n"
          ]
        }
      ],
      "source": [
        "# Hallar la cantidad de municipios en el DataFrame\n",
        "num_municipios = len(muns)\n",
        "\n",
        "assert num_municipios == 1122\n",
        "\n",
        "print(\"Cantidad de municipios =\", num_municipios)"
      ]
    },
    {
      "cell_type": "code",
      "execution_count": 6,
      "metadata": {
        "colab": {
          "base_uri": "https://localhost:8080/"
        },
        "collapsed": true,
        "id": "IFmPyM2eOOsl",
        "outputId": "91695fd6-ddcb-462d-885b-aa5060860a38"
      },
      "outputs": [
        {
          "name": "stdout",
          "output_type": "stream",
          "text": [
            "Prueba superada 💪🏽\n"
          ]
        }
      ],
      "source": [
        "# Determinar el promedio de la población rural de todos los municipios del país\n",
        "prom = muns[\"poblaciónRural\"].mean()\n",
        "\n",
        "assert math.isclose(10198.901961, prom, rel_tol=1e-6)\n",
        "print(\"Prueba superada 💪🏽\")"
      ]
    },
    {
      "cell_type": "code",
      "execution_count": 71,
      "metadata": {
        "colab": {
          "base_uri": "https://localhost:8080/"
        },
        "id": "0KypXfWWPq3Y",
        "outputId": "42af1a8d-87c5-4442-c64d-128118dc3611"
      },
      "outputs": [
        {
          "name": "stdout",
          "output_type": "stream",
          "text": [
            "Hay 11 municipios en Amazonas\n",
            "Prueba superada 💪🏽\n"
          ]
        }
      ],
      "source": [
        "# Halle la cantidad total de municipio del departamento de Amazonas\n",
        "n = (muns[\"departamento\"]==\"Amazonas\").sum()\n",
        "\n",
        "print(f\"Hay {n} municipios en Amazonas\")\n",
        "assert n == 11\n",
        "print(\"Prueba superada 💪🏽\")"
      ]
    },
    {
      "cell_type": "code",
      "execution_count": 74,
      "metadata": {
        "colab": {
          "base_uri": "https://localhost:8080/"
        },
        "id": "zYt_N7cVQQs7",
        "outputId": "8ca37f0e-abb9-48c6-a51c-ced6c640ec13"
      },
      "outputs": [
        {
          "name": "stdout",
          "output_type": "stream",
          "text": [
            "Prueba superada 💪🏽\n"
          ]
        }
      ],
      "source": [
        "# Escriba una función que reciba el nombre de un departamento y que retorne cuántos municipios hay\n",
        "# en el departamento con ese nombre.\n",
        "def municipios_departamento(muns: pd.DataFrame, nombre: str) -> int:\n",
        "    n = (muns[\"departamento\"]==nombre).sum()\n",
        "    return n\n",
        "\n",
        "# Pruebas de la función anterior\n",
        "assert municipios_departamento(muns, \"Cundinamarca\") == 117\n",
        "assert municipios_departamento(muns, \"Boyacá\") == 123\n",
        "assert municipios_departamento(muns, \"Vichada\") == 4\n",
        "print(\"Prueba superada 💪🏽\")"
      ]
    },
    {
      "cell_type": "code",
      "execution_count": 75,
      "metadata": {
        "colab": {
          "base_uri": "https://localhost:8080/"
        },
        "id": "YJTdopXrub0B",
        "outputId": "d237f0f7-bbc0-4c1a-cae2-69bb18cbfe57"
      },
      "outputs": [
        {
          "name": "stdout",
          "output_type": "stream",
          "text": [
            "Prueba superada 💪🏽\n"
          ]
        }
      ],
      "source": [
        "# Escriba una expresión que permita encontrar los nombres de los municipios que tienen\n",
        "# menos de 500 habitantes en la población rural\n",
        "m = muns[muns[\"poblaciónRural\"] < 500][\"nombre\"]\n",
        "\n",
        "\n",
        "# Prueba\n",
        "assert m.sort_values().to_list() == ['La Guadalupe', 'Santa Lucía', 'Soplaviento', 'Suan']\n",
        "print(\"Prueba superada 💪🏽\")"
      ]
    },
    {
      "cell_type": "code",
      "execution_count": 76,
      "metadata": {
        "colab": {
          "base_uri": "https://localhost:8080/"
        },
        "id": "zjcXOdWyA8-5",
        "outputId": "69ce2c1d-9ec6-4268-faca-4add2f3e73f2"
      },
      "outputs": [
        {
          "name": "stdout",
          "output_type": "stream",
          "text": [
            "Prueba superada 💪🏽\n"
          ]
        }
      ],
      "source": [
        "# Cual es la suma total de la población urbana de todos los municipios\n",
        "pob_urb = muns[\"poblaciónUrbana\"].sum()\n",
        "\n",
        "# Prueba\n",
        "assert pob_urb == 37_740_751\n",
        "print(\"Prueba superada 💪🏽\")"
      ]
    },
    {
      "cell_type": "code",
      "execution_count": 77,
      "metadata": {
        "colab": {
          "base_uri": "https://localhost:8080/"
        },
        "id": "d6Pt4uzlCqBT",
        "outputId": "1e1aa9f6-a02e-4dce-fda4-54e997d8228b"
      },
      "outputs": [
        {
          "name": "stdout",
          "output_type": "stream",
          "text": [
            "Prueba superada 💪🏽\n"
          ]
        }
      ],
      "source": [
        "# Hallar la suma de la población urbana de los municipios de los departamentos\n",
        "# del eje cafetero: Caldas, Quindio o Risaralda\n",
        "pob_eje_cafetero = muns[muns[\"departamento\"].isin([\"Caldas\", \"Quindio\", \"Risaralda\"])][\"poblaciónUrbana\"].sum()\n",
        "\n",
        "# Prueba\n",
        "assert pob_eje_cafetero == 1_471_055\n",
        "print(\"Prueba superada 💪🏽\")"
      ]
    },
    {
      "cell_type": "code",
      "execution_count": 78,
      "metadata": {
        "id": "8hsf6HZ-THGp"
      },
      "outputs": [],
      "source": [
        "# Encontrar el nombre del municipio que es la capital (esCapital == 1) del departamento de Casanare\n",
        "capital_casanare = muns[(muns[\"departamento\"] == \"Casanare\") & (muns[\"esCapital\"] == 1)][\"nombre\"].iloc[0]\n",
        "\n",
        "assert capital_casanare == \"Yopal\"\n"
      ]
    },
    {
      "cell_type": "code",
      "execution_count": 84,
      "metadata": {
        "colab": {
          "base_uri": "https://localhost:8080/"
        },
        "id": "8HR_nr40EtHe",
        "outputId": "d7d8d8d3-e802-4ebb-8373-023b27bfef69"
      },
      "outputs": [
        {
          "name": "stdout",
          "output_type": "stream",
          "text": [
            "Prueba superada 💪🏽\n"
          ]
        }
      ],
      "source": [
        "# Encontrar cuantos municipios tienen una población urbana inferior al promedio\n",
        "# de la población urbama de todo el pais\n",
        "prom_poblacion_urbana = muns[\"poblaciónUrbana\"].mean()\n",
        "cant_muns_pobl_inf_prom = (muns[\"poblaciónUrbana\"] < prom_poblacion_urbana).sum()\n",
        "\n",
        "# Prueba\n",
        "assert cant_muns_pobl_inf_prom == 998\n",
        "print(\"Prueba superada 💪🏽\")"
      ]
    },
    {
      "cell_type": "code",
      "execution_count": 86,
      "metadata": {
        "id": "-Wz3v-gs7FFn"
      },
      "outputs": [],
      "source": [
        "# Presentar el nombre y problación urbana de los municipios cuya población urbana esté entre el millón y los tres millones\n",
        "# de habitantes.\n",
        "jugadores_entre_1_y_3_millones = muns[(muns[\"poblaciónUrbana\"] >= 1_000_000) & (muns[\"poblaciónUrbana\"] <= 3_000_000)][[\"nombre\"]]\n"
      ]
    },
    {
      "cell_type": "code",
      "execution_count": 91,
      "metadata": {
        "colab": {
          "base_uri": "https://localhost:8080/",
          "height": 237
        },
        "id": "ja3JFZ2NV3uR",
        "outputId": "44ad7993-a9e9-4665-b7ed-b223da51dcfc"
      },
      "outputs": [
        {
          "data": {
            "application/vnd.google.colaboratory.intrinsic+json": {
              "summary": "{\n  \"name\": \"muns_rural_mayor_urbana\",\n  \"rows\": 705,\n  \"fields\": [\n    {\n      \"column\": \"c\\u00f3digo\",\n      \"properties\": {\n        \"dtype\": \"number\",\n        \"std\": 292,\n        \"min\": 36,\n        \"max\": 1122,\n        \"num_unique_values\": 705,\n        \"samples\": [\n          314,\n          175,\n          973\n        ],\n        \"semantic_type\": \"\",\n        \"description\": \"\"\n      }\n    },\n    {\n      \"column\": \"nombre\",\n      \"properties\": {\n        \"dtype\": \"string\",\n        \"num_unique_values\": 662,\n        \"samples\": [\n          \"Mistrat\\u00f3\",\n          \"Taraira\",\n          \"San Andr\\u00e9s de Cuerquia\"\n        ],\n        \"semantic_type\": \"\",\n        \"description\": \"\"\n      }\n    },\n    {\n      \"column\": \"poblaci\\u00f3nUrbana\",\n      \"properties\": {\n        \"dtype\": \"number\",\n        \"std\": 6062,\n        \"min\": 0,\n        \"max\": 67148,\n        \"num_unique_values\": 652,\n        \"samples\": [\n          2180,\n          1010,\n          1230\n        ],\n        \"semantic_type\": \"\",\n        \"description\": \"\"\n      }\n    },\n    {\n      \"column\": \"poblaci\\u00f3nRural\",\n      \"properties\": {\n        \"dtype\": \"number\",\n        \"std\": 11501,\n        \"min\": 374,\n        \"max\": 173143,\n        \"num_unique_values\": 694,\n        \"samples\": [\n          3014,\n          2653,\n          6825\n        ],\n        \"semantic_type\": \"\",\n        \"description\": \"\"\n      }\n    },\n    {\n      \"column\": \"departamento\",\n      \"properties\": {\n        \"dtype\": \"category\",\n        \"num_unique_values\": 32,\n        \"samples\": [\n          \"Putumayo\",\n          \"Valle del Cauca\",\n          \"Magdalena\"\n        ],\n        \"semantic_type\": \"\",\n        \"description\": \"\"\n      }\n    },\n    {\n      \"column\": \"esCapital\",\n      \"properties\": {\n        \"dtype\": \"number\",\n        \"std\": 0,\n        \"min\": 0,\n        \"max\": 0,\n        \"num_unique_values\": 1,\n        \"samples\": [\n          0\n        ],\n        \"semantic_type\": \"\",\n        \"description\": \"\"\n      }\n    }\n  ]\n}",
              "type": "dataframe",
              "variable_name": "muns_rural_mayor_urbana"
            },
            "text/html": [
              "\n",
              "  <div id=\"df-867035a5-08d4-4c20-a7cb-9dc81ebe47c9\" class=\"colab-df-container\">\n",
              "    <div>\n",
              "<style scoped>\n",
              "    .dataframe tbody tr th:only-of-type {\n",
              "        vertical-align: middle;\n",
              "    }\n",
              "\n",
              "    .dataframe tbody tr th {\n",
              "        vertical-align: top;\n",
              "    }\n",
              "\n",
              "    .dataframe thead th {\n",
              "        text-align: right;\n",
              "    }\n",
              "</style>\n",
              "<table border=\"1\" class=\"dataframe\">\n",
              "  <thead>\n",
              "    <tr style=\"text-align: right;\">\n",
              "      <th></th>\n",
              "      <th>nombre</th>\n",
              "      <th>poblaciónUrbana</th>\n",
              "      <th>poblaciónRural</th>\n",
              "      <th>departamento</th>\n",
              "      <th>esCapital</th>\n",
              "    </tr>\n",
              "    <tr>\n",
              "      <th>código</th>\n",
              "      <th></th>\n",
              "      <th></th>\n",
              "      <th></th>\n",
              "      <th></th>\n",
              "      <th></th>\n",
              "    </tr>\n",
              "  </thead>\n",
              "  <tbody>\n",
              "    <tr>\n",
              "      <th>404</th>\n",
              "      <td>Abejorral</td>\n",
              "      <td>6724</td>\n",
              "      <td>12471</td>\n",
              "      <td>Antioquia</td>\n",
              "      <td>0</td>\n",
              "    </tr>\n",
              "    <tr>\n",
              "      <th>178</th>\n",
              "      <td>Ábrego</td>\n",
              "      <td>17287</td>\n",
              "      <td>21076</td>\n",
              "      <td>Norte de Santander</td>\n",
              "      <td>0</td>\n",
              "    </tr>\n",
              "    <tr>\n",
              "      <th>1090</th>\n",
              "      <td>Abriaquí</td>\n",
              "      <td>738</td>\n",
              "      <td>1337</td>\n",
              "      <td>Antioquia</td>\n",
              "      <td>0</td>\n",
              "    </tr>\n",
              "    <tr>\n",
              "      <th>215</th>\n",
              "      <td>Acevedo</td>\n",
              "      <td>6515</td>\n",
              "      <td>27098</td>\n",
              "      <td>Huila</td>\n",
              "      <td>0</td>\n",
              "    </tr>\n",
              "    <tr>\n",
              "      <th>323</th>\n",
              "      <td>Achí</td>\n",
              "      <td>4193</td>\n",
              "      <td>19258</td>\n",
              "      <td>Bolívar</td>\n",
              "      <td>0</td>\n",
              "    </tr>\n",
              "  </tbody>\n",
              "</table>\n",
              "</div>\n",
              "    <div class=\"colab-df-buttons\">\n",
              "\n",
              "  <div class=\"colab-df-container\">\n",
              "    <button class=\"colab-df-convert\" onclick=\"convertToInteractive('df-867035a5-08d4-4c20-a7cb-9dc81ebe47c9')\"\n",
              "            title=\"Convert this dataframe to an interactive table.\"\n",
              "            style=\"display:none;\">\n",
              "\n",
              "  <svg xmlns=\"http://www.w3.org/2000/svg\" height=\"24px\" viewBox=\"0 -960 960 960\">\n",
              "    <path d=\"M120-120v-720h720v720H120Zm60-500h600v-160H180v160Zm220 220h160v-160H400v160Zm0 220h160v-160H400v160ZM180-400h160v-160H180v160Zm440 0h160v-160H620v160ZM180-180h160v-160H180v160Zm440 0h160v-160H620v160Z\"/>\n",
              "  </svg>\n",
              "    </button>\n",
              "\n",
              "  <style>\n",
              "    .colab-df-container {\n",
              "      display:flex;\n",
              "      gap: 12px;\n",
              "    }\n",
              "\n",
              "    .colab-df-convert {\n",
              "      background-color: #E8F0FE;\n",
              "      border: none;\n",
              "      border-radius: 50%;\n",
              "      cursor: pointer;\n",
              "      display: none;\n",
              "      fill: #1967D2;\n",
              "      height: 32px;\n",
              "      padding: 0 0 0 0;\n",
              "      width: 32px;\n",
              "    }\n",
              "\n",
              "    .colab-df-convert:hover {\n",
              "      background-color: #E2EBFA;\n",
              "      box-shadow: 0px 1px 2px rgba(60, 64, 67, 0.3), 0px 1px 3px 1px rgba(60, 64, 67, 0.15);\n",
              "      fill: #174EA6;\n",
              "    }\n",
              "\n",
              "    .colab-df-buttons div {\n",
              "      margin-bottom: 4px;\n",
              "    }\n",
              "\n",
              "    [theme=dark] .colab-df-convert {\n",
              "      background-color: #3B4455;\n",
              "      fill: #D2E3FC;\n",
              "    }\n",
              "\n",
              "    [theme=dark] .colab-df-convert:hover {\n",
              "      background-color: #434B5C;\n",
              "      box-shadow: 0px 1px 3px 1px rgba(0, 0, 0, 0.15);\n",
              "      filter: drop-shadow(0px 1px 2px rgba(0, 0, 0, 0.3));\n",
              "      fill: #FFFFFF;\n",
              "    }\n",
              "  </style>\n",
              "\n",
              "    <script>\n",
              "      const buttonEl =\n",
              "        document.querySelector('#df-867035a5-08d4-4c20-a7cb-9dc81ebe47c9 button.colab-df-convert');\n",
              "      buttonEl.style.display =\n",
              "        google.colab.kernel.accessAllowed ? 'block' : 'none';\n",
              "\n",
              "      async function convertToInteractive(key) {\n",
              "        const element = document.querySelector('#df-867035a5-08d4-4c20-a7cb-9dc81ebe47c9');\n",
              "        const dataTable =\n",
              "          await google.colab.kernel.invokeFunction('convertToInteractive',\n",
              "                                                    [key], {});\n",
              "        if (!dataTable) return;\n",
              "\n",
              "        const docLinkHtml = 'Like what you see? Visit the ' +\n",
              "          '<a target=\"_blank\" href=https://colab.research.google.com/notebooks/data_table.ipynb>data table notebook</a>'\n",
              "          + ' to learn more about interactive tables.';\n",
              "        element.innerHTML = '';\n",
              "        dataTable['output_type'] = 'display_data';\n",
              "        await google.colab.output.renderOutput(dataTable, element);\n",
              "        const docLink = document.createElement('div');\n",
              "        docLink.innerHTML = docLinkHtml;\n",
              "        element.appendChild(docLink);\n",
              "      }\n",
              "    </script>\n",
              "  </div>\n",
              "\n",
              "\n",
              "    <div id=\"df-cd18d844-0648-431b-866e-b4fb5364025e\">\n",
              "      <button class=\"colab-df-quickchart\" onclick=\"quickchart('df-cd18d844-0648-431b-866e-b4fb5364025e')\"\n",
              "                title=\"Suggest charts\"\n",
              "                style=\"display:none;\">\n",
              "\n",
              "<svg xmlns=\"http://www.w3.org/2000/svg\" height=\"24px\"viewBox=\"0 0 24 24\"\n",
              "     width=\"24px\">\n",
              "    <g>\n",
              "        <path d=\"M19 3H5c-1.1 0-2 .9-2 2v14c0 1.1.9 2 2 2h14c1.1 0 2-.9 2-2V5c0-1.1-.9-2-2-2zM9 17H7v-7h2v7zm4 0h-2V7h2v10zm4 0h-2v-4h2v4z\"/>\n",
              "    </g>\n",
              "</svg>\n",
              "      </button>\n",
              "\n",
              "<style>\n",
              "  .colab-df-quickchart {\n",
              "      --bg-color: #E8F0FE;\n",
              "      --fill-color: #1967D2;\n",
              "      --hover-bg-color: #E2EBFA;\n",
              "      --hover-fill-color: #174EA6;\n",
              "      --disabled-fill-color: #AAA;\n",
              "      --disabled-bg-color: #DDD;\n",
              "  }\n",
              "\n",
              "  [theme=dark] .colab-df-quickchart {\n",
              "      --bg-color: #3B4455;\n",
              "      --fill-color: #D2E3FC;\n",
              "      --hover-bg-color: #434B5C;\n",
              "      --hover-fill-color: #FFFFFF;\n",
              "      --disabled-bg-color: #3B4455;\n",
              "      --disabled-fill-color: #666;\n",
              "  }\n",
              "\n",
              "  .colab-df-quickchart {\n",
              "    background-color: var(--bg-color);\n",
              "    border: none;\n",
              "    border-radius: 50%;\n",
              "    cursor: pointer;\n",
              "    display: none;\n",
              "    fill: var(--fill-color);\n",
              "    height: 32px;\n",
              "    padding: 0;\n",
              "    width: 32px;\n",
              "  }\n",
              "\n",
              "  .colab-df-quickchart:hover {\n",
              "    background-color: var(--hover-bg-color);\n",
              "    box-shadow: 0 1px 2px rgba(60, 64, 67, 0.3), 0 1px 3px 1px rgba(60, 64, 67, 0.15);\n",
              "    fill: var(--button-hover-fill-color);\n",
              "  }\n",
              "\n",
              "  .colab-df-quickchart-complete:disabled,\n",
              "  .colab-df-quickchart-complete:disabled:hover {\n",
              "    background-color: var(--disabled-bg-color);\n",
              "    fill: var(--disabled-fill-color);\n",
              "    box-shadow: none;\n",
              "  }\n",
              "\n",
              "  .colab-df-spinner {\n",
              "    border: 2px solid var(--fill-color);\n",
              "    border-color: transparent;\n",
              "    border-bottom-color: var(--fill-color);\n",
              "    animation:\n",
              "      spin 1s steps(1) infinite;\n",
              "  }\n",
              "\n",
              "  @keyframes spin {\n",
              "    0% {\n",
              "      border-color: transparent;\n",
              "      border-bottom-color: var(--fill-color);\n",
              "      border-left-color: var(--fill-color);\n",
              "    }\n",
              "    20% {\n",
              "      border-color: transparent;\n",
              "      border-left-color: var(--fill-color);\n",
              "      border-top-color: var(--fill-color);\n",
              "    }\n",
              "    30% {\n",
              "      border-color: transparent;\n",
              "      border-left-color: var(--fill-color);\n",
              "      border-top-color: var(--fill-color);\n",
              "      border-right-color: var(--fill-color);\n",
              "    }\n",
              "    40% {\n",
              "      border-color: transparent;\n",
              "      border-right-color: var(--fill-color);\n",
              "      border-top-color: var(--fill-color);\n",
              "    }\n",
              "    60% {\n",
              "      border-color: transparent;\n",
              "      border-right-color: var(--fill-color);\n",
              "    }\n",
              "    80% {\n",
              "      border-color: transparent;\n",
              "      border-right-color: var(--fill-color);\n",
              "      border-bottom-color: var(--fill-color);\n",
              "    }\n",
              "    90% {\n",
              "      border-color: transparent;\n",
              "      border-bottom-color: var(--fill-color);\n",
              "    }\n",
              "  }\n",
              "</style>\n",
              "\n",
              "      <script>\n",
              "        async function quickchart(key) {\n",
              "          const quickchartButtonEl =\n",
              "            document.querySelector('#' + key + ' button');\n",
              "          quickchartButtonEl.disabled = true;  // To prevent multiple clicks.\n",
              "          quickchartButtonEl.classList.add('colab-df-spinner');\n",
              "          try {\n",
              "            const charts = await google.colab.kernel.invokeFunction(\n",
              "                'suggestCharts', [key], {});\n",
              "          } catch (error) {\n",
              "            console.error('Error during call to suggestCharts:', error);\n",
              "          }\n",
              "          quickchartButtonEl.classList.remove('colab-df-spinner');\n",
              "          quickchartButtonEl.classList.add('colab-df-quickchart-complete');\n",
              "        }\n",
              "        (() => {\n",
              "          let quickchartButtonEl =\n",
              "            document.querySelector('#df-cd18d844-0648-431b-866e-b4fb5364025e button');\n",
              "          quickchartButtonEl.style.display =\n",
              "            google.colab.kernel.accessAllowed ? 'block' : 'none';\n",
              "        })();\n",
              "      </script>\n",
              "    </div>\n",
              "\n",
              "    </div>\n",
              "  </div>\n"
            ],
            "text/plain": [
              "           nombre  poblaciónUrbana  poblaciónRural        departamento  \\\n",
              "código                                                                   \n",
              "404     Abejorral             6724           12471           Antioquia   \n",
              "178        Ábrego            17287           21076  Norte de Santander   \n",
              "1090     Abriaquí              738            1337           Antioquia   \n",
              "215       Acevedo             6515           27098               Huila   \n",
              "323          Achí             4193           19258             Bolívar   \n",
              "\n",
              "        esCapital  \n",
              "código             \n",
              "404             0  \n",
              "178             0  \n",
              "1090            0  \n",
              "215             0  \n",
              "323             0  "
            ]
          },
          "execution_count": 91,
          "metadata": {},
          "output_type": "execute_result"
        }
      ],
      "source": [
        "# Presentar toda la información de aquellos municipios donde la población rural supere a la población urbana\n",
        "# Filtrar municipios donde la población rural es mayor que la población urbana\n",
        "\n",
        "muns_rural_mayor_urbana = muns[muns[\"poblaciónRural\"] > muns[\"poblaciónUrbana\"]]\n",
        "\n",
        "muns_rural_mayor_urbana.head()\n"
      ]
    },
    {
      "cell_type": "code",
      "execution_count": 97,
      "metadata": {
        "colab": {
          "base_uri": "https://localhost:8080/"
        },
        "id": "VlKO9x3a7GYe",
        "outputId": "f24d1508-1b89-4a0b-843c-70409f7fb1b8"
      },
      "outputs": [
        {
          "name": "stdout",
          "output_type": "stream",
          "text": [
            "Cantidad de capitales: 0\n"
          ]
        }
      ],
      "source": [
        "# Cuantas capitales hay en el dataframe\n",
        "\n",
        "num_capitales = (muns[\"esCapital\"] == \"Sí\").sum()\n",
        "print(\"Cantidad de capitales:\", num_capitales)\n"
      ]
    },
    {
      "cell_type": "code",
      "execution_count": 100,
      "metadata": {
        "colab": {
          "base_uri": "https://localhost:8080/"
        },
        "id": "6J_GRk6S7_ve",
        "outputId": "9535d301-776f-49e1-cd04-e7433d304092"
      },
      "outputs": [
        {
          "name": "stdout",
          "output_type": "stream",
          "text": [
            "Cantidad de capitales con población inferior a 100,000: 8\n"
          ]
        }
      ],
      "source": [
        "# Determinar cuántos capitales tiene una población inferior a los 100 mil habitantes\n",
        "# Calcular la población total\n",
        "\n",
        "# aca determinamos cuantas capitales tienen una poblacion inferior a 100k\n",
        "# filtramos para obtener solo las capitales\n",
        "\n",
        "capitales = muns[muns[\"esCapital\"] == 1].copy()\n",
        "\n",
        "# Calculamos la población total para cada capital (suma de poblaciónRural y poblaciónUrbana)\n",
        "capitales[\"poblacionTotal\"] = capitales[\"poblaciónRural\"] + capitales[\"poblaciónUrbana\"]\n",
        "\n",
        "# Contamos cuántas de estas capitales tienen una población total inferior a 100,000\n",
        "num_capitales_pobl_baja = (capitales[\"poblacionTotal\"] < 100000).sum()\n",
        "\n",
        "print(\"Cantidad de capitales con población inferior a 100,000:\", num_capitales_pobl_baja)"
      ]
    }
  ],
  "metadata": {
    "colab": {
      "provenance": []
    },
    "kernelspec": {
      "display_name": "Python 3",
      "name": "python3"
    },
    "language_info": {
      "codemirror_mode": {
        "name": "ipython",
        "version": 3
      },
      "file_extension": ".py",
      "mimetype": "text/x-python",
      "name": "python",
      "nbconvert_exporter": "python",
      "pygments_lexer": "ipython3",
      "version": "3.13.3"
    }
  },
  "nbformat": 4,
  "nbformat_minor": 0
}
