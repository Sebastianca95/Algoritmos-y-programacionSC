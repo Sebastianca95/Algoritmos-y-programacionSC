{
  "cells": [
    {
      "cell_type": "markdown",
      "metadata": {
        "id": "QZ6XziVD76Jw"
      },
      "source": [
        "<h1 align=\"center\">Taller - Instrucciones repetitivas en Python</h1>\n",
        "\n",
        "> Agregar bloque entrecomillado\n",
        "\n",
        "\n",
        "\n",
        "Desarrolle la solucion a los siguientes problemas en Python, usando funciones y el programa correspondiente\n",
        "\n",
        "---"
      ]
    },
    {
      "cell_type": "markdown",
      "metadata": {
        "id": "uJJp2xk076J1"
      },
      "source": [
        "## Ejercicio 01\n",
        "\n",
        "Una librería ofrece dos tipos de descuentos ante la compra de un libro. Si el libro tiene un precio inferior a cien mil pesos, el descuento es del 12% del precio; pero en cualquier otro caso, el descuento asciende a un 18%.\n",
        "\n",
        "* Escriba una función que halle el precio neto de un libro (precio menos descuento) de un libro, dado el precio del libro.\n",
        "* Ahora, escriba un programa que permita leer el precio de varios libros (finalizar cuando el precio es cero o negativo) y mostrar para cada libro, el precio neto (usando la función desarrollada anteriormente)"
      ]
    },
    {
      "cell_type": "code",
      "execution_count": null,
      "metadata": {
        "id": "58mamZV176J2",
        "collapsed": true
      },
      "outputs": [],
      "source": [
        "# Definición de la función\n",
        "def hallar_precio_neto(precio_libro:float)->float:\n",
        "  if(precio_libro<100000):\n",
        "    precio_neto=precio_libro-(precio_libro*0.12)\n",
        "  else:\n",
        "    precio_neto=precio_libro-(precio_libro*0.18)\n",
        "  return precio_neto\n",
        "\n",
        "\n",
        "\n",
        "# Programa principal\n",
        "precio_libro=float(input(\"Ingrese precio del libro:  \"))\n",
        "while precio_libro>0:\n",
        "  precio_neto= hallar_precio_neto(precio_libro)\n",
        "  print(\"El precio neto es:  \",precio_neto)\n",
        "  precio_libro=float(input(\"Ingrese precio del libro:  \"))"
      ]
    },
    {
      "cell_type": "markdown",
      "metadata": {
        "id": "jF4Qm9FE76J3"
      },
      "source": [
        "---"
      ]
    },
    {
      "cell_type": "markdown",
      "metadata": {
        "id": "weyR_q0d76J4"
      },
      "source": [
        "## Ejercicio 02\n",
        "\n",
        "Un vendedor recibe una comisión por el volumen de ventas que realice. Las reglas para asignarle la comisión al vendedor son las siguientes:\n",
        "\n",
        "Ventas | Comisión\n",
        "---|---\n",
        "Inferior a 50 mil pesos | 7% de las ventas\n",
        "Entre 50 mil y 100 mil pesos | 9% de las ventas más 5 mil pesos\n",
        "Entre 100 mil y 200 mil pesos | 11% de las ventas más 10 mil pesos\n",
        "Entre 200 mil y 500 mil pesos | 13% de las ventas más 20 mil pesos\n",
        "Más de 500 mil pesos | 15% de las ventas más 40 mil pesos\n",
        "\n",
        "* Escriba una función que recibe el valor de las ventas de un vendedor y que retorne la comisión\n",
        "* Escriba un programa que lea el valor de ventas de varios vendedores de la empresa (finalizar cuando las ventas sean negativas), y usando la función anterior, calcule la comisión y la imprima por pantalla."
      ]
    },
    {
      "cell_type": "code",
      "execution_count": null,
      "metadata": {
        "id": "kMitVJVW76J4"
      },
      "outputs": [],
      "source": [
        "# Definición de la función\n",
        "ComissionRules = {\n",
        "    \"50mil_\": 0.07,\n",
        "    \"50mil_100mil\": 0.09,\n",
        "    \"100mil_200mil\": 0.11,\n",
        "    \"200mil_500mil\": 0.13,\n",
        "    \"_500mil\": 0.15,\n",
        "}\n",
        "\n",
        "def AppliedComission(Sells) -> float:\n",
        "    Comission = 0\n",
        "\n",
        "    if (Sells < 50000):\n",
        "        Comission = Sells * ComissionRules[\"50mil_\"]\n",
        "\n",
        "    elif (50000 <= Sells <= 100000):\n",
        "        Comission = (Sells * ComissionRules[\"50mil_100mil\"]) + 5000\n",
        "\n",
        "    elif (100000 <= Sells <= 200000):\n",
        "        Comission = (Sells * ComissionRules[\"100mil_200mil\"]) + 10000\n",
        "\n",
        "    elif (200000 <= Sells <= 500000):\n",
        "        Comission = (Sells * ComissionRules[\"200mil_500mil\"]) + 20000\n",
        "\n",
        "    elif (Sells > 500000):\n",
        "        Comission = (Sells * ComissionRules[\"_500mil\"]) + 40000\n",
        "\n",
        "    return Comission;\n",
        "\n",
        "\n",
        "\n",
        "\n",
        "# Programa principal\n",
        "Sellers = [];\n",
        "\n",
        "while True:\n",
        "    SellerValue = float(input(\"Ingrese las ventas del vendedor: \"))\n",
        "\n",
        "    if (SellerValue < 0):\n",
        "        break;\n",
        "\n",
        "    Sellers.append(AppliedComission(SellerValue));\n",
        "\n",
        "print(\"\\n|----------------------\\n\")\n",
        "\n",
        "for SellersRange in range(0, len(Sellers)):\n",
        "    print(f\"El vendedor {SellersRange + 1} tiene una comision de: {Sellers[SellersRange]:.1f}\");"
      ]
    },
    {
      "cell_type": "markdown",
      "metadata": {
        "id": "YWyFJrR876J4"
      },
      "source": [
        "---\n"
      ]
    },
    {
      "cell_type": "markdown",
      "metadata": {
        "id": "2IHUrLVh76J5"
      },
      "source": [
        "## Ejercicio 03\n",
        "\n",
        "Una empresa ofrece a sus empleados un salario mensual fijo, y un porcertaje de las ventas como una comisión adicional a ese salario mensual. Esta comisión se calcula de la siguiente manera: si las ventas de un empleado excede los 50 mil pesoso, la comisión será de un 12% de las ventas que están por encima de los 50 mil pesos, en otro caso no habrá comisión.\n",
        "\n",
        "* Primero, construya una función en la que dado las ventas que hizo el empleado, determine cuánto es la comisión\n",
        "* Ahora hay que hacer un programa que calcule y muestre los salarios y comisiones de todos los empleados de la empresa. Para cada empleado hay que preguntarle al usuario, el salario mensual y las ventas realizadas, y mostrar la comisión por las ventas (usando la función anterior) y el salario neto (salario más comisión). Como no sabemos cuántos empleados hay, después de mostrar esta información, debemos preguntarle al usuario si desea seguir o no."
      ]
    },
    {
      "cell_type": "code",
      "execution_count": null,
      "metadata": {
        "id": "aTuMvKmw76J5"
      },
      "outputs": [],
      "source": [
        "# Definición de la función\n",
        "ComissionCap = 50000\n",
        "\n",
        "def getComission(EmployeeSalary, EmployeeSells) -> tuple[int, int]:\n",
        "    NewEmployeeSalary = EmployeeSalary\n",
        "    NewEmployeeComission = 0\n",
        "\n",
        "    if (EmployeeSells > ComissionCap):\n",
        "        NewEmployeeComission = EmployeeSells * 0.12\n",
        "\n",
        "    NewEmployeeSalary += NewEmployeeComission\n",
        "\n",
        "    return NewEmployeeSalary, NewEmployeeComission;\n",
        "\n",
        "\n",
        "# Programa principal\n",
        "while True:\n",
        "    UserEmployeeSalary = float(input(\"Ingrese el salario del empleado: \"))\n",
        "    UserEmployeeSells = float(input(\"Ingrese las ventas del empleado: \"))\n",
        "\n",
        "    (NewEmployeeSalary, NewEmployeeComission) = getComission(UserEmployeeSalary, UserEmployeeSells)\n",
        "\n",
        "    print(\"\\n>|------------------------\")\n",
        "    print(f\">| Comision del empleado: {NewEmployeeComission}\")\n",
        "    print(f\">| Salario neto del empleado: {NewEmployeeSalary}\")\n",
        "    print(\">|------------------------\\n\")\n",
        "\n",
        "    while (True):\n",
        "        UserContinue = input(\"¿Desea seguir? Y/N: \")\n",
        "\n",
        "        if (UserContinue == \"Y\" or UserContinue == \"N\"):\n",
        "            break\n",
        "\n",
        "    if (UserContinue == \"N\"):\n",
        "        break;\n"
      ]
    },
    {
      "cell_type": "markdown",
      "metadata": {
        "id": "6M93ZEZh76J5"
      },
      "source": [
        "---"
      ]
    },
    {
      "cell_type": "markdown",
      "metadata": {
        "id": "ge6TBY0P76J6"
      },
      "source": [
        "## Ejercicio 04\n",
        "\n",
        "En una empresa se le paga a los trabajadores al final de cada semana de acuerdo a las reglas dadas a continuación:\n",
        "\n",
        "* Si trabajas 35 horas o menos, se le paga un valor de 15 mil pesos la hora;\n",
        "* Si trabaja más de 35 horas pero menos de 60, el valor de la hora es de 15 mil por las primeras 35 horas y de 18 mil por cada hora trabajada por encima de las 35\n",
        "* Si trabaja más de 60 horas, las primeras 35 se pagan a 15 mil, las siguiente 25 horas a 18 mil cada una y las horas horas trabajadas por encima de las 60 horas, se le paga a 25 mil pesos cada una.\n",
        "\n",
        "Vamos a buscar imprimir el salario semanal de cada uno de los empleados de la empresa. Para ello:\n",
        "\n",
        "* Escriba una función que reciba el número de horas trabajadas por un empleado y retorne el salario\n",
        "* Un programa que le pregunte al usuario el número de empleados que trabajan en la empresa, y para cada uno de esos, pregunte el número de horas trabajadas en la semana, y usando la función anterior, imprima el salario mensual de ese empleado."
      ]
    },
    {
      "cell_type": "code",
      "execution_count": null,
      "metadata": {
        "id": "o8NultX076J6"
      },
      "outputs": [],
      "source": [
        "WorkedHours = {\n",
        "    \"35Hours_\": 15000,\n",
        "    \"35Hours_60Hours\": 18000,\n",
        "    \"_60Hours\": 25000,\n",
        "}\n",
        "\n",
        "HoursReferences = {\n",
        "    \"35\": 35,\n",
        "    \"60\": 60,\n",
        "    \"25\": 25\n",
        "}\n",
        "\n",
        "# Definición de la función\n",
        "def CalculateMonthlySalaryPeerHours(EmployeeHours) -> int:\n",
        "    CalculatedHours = 0\n",
        "\n",
        "    if (EmployeeHours <= HoursReferences[\"35\"]):\n",
        "        CalculatedHours += EmployeeHours * WorkedHours[\"35Hours_\"]\n",
        "\n",
        "    elif (HoursReferences[\"35\"] < EmployeeHours < HoursReferences[\"60\"]):\n",
        "        CalculatedHours += HoursReferences[\"35\"] * WorkedHours[\"35Hours_\"]\n",
        "        EmployeeHours -= HoursReferences[\"35\"]\n",
        "        CalculatedHours += EmployeeHours * WorkedHours[\"35Hours_60Hours\"]\n",
        "\n",
        "    elif (EmployeeHours >= HoursReferences[\"60\"]):\n",
        "        CalculatedHours += HoursReferences[\"35\"] * WorkedHours[\"35Hours_\"]\n",
        "        EmployeeHours -= HoursReferences[\"35\"]\n",
        "        CalculatedHours += HoursReferences[\"25\"] * WorkedHours[\"35Hours_60Hours\"]\n",
        "        EmployeeHours -= HoursReferences[\"25\"]\n",
        "        CalculatedHours += EmployeeHours * WorkedHours[\"_60Hours\"]\n",
        "\n",
        "    return CalculatedHours * 4;\n",
        "\n",
        "# Programa principal\n",
        "EmployeesCount = int(input(\"Cuantos empleados hay: \"))\n",
        "\n",
        "for EmployeeEval in range(EmployeesCount):\n",
        "    EmployeeWorkedHours = int(input(f\"Cuantas horas realizo el empleado {EmployeeEval + 1} en la semana\"))\n",
        "    EmployeeSalary = CalculateMonthlySalaryPeerHours(EmployeeWorkedHours)\n",
        "    print(f\"El salario del empleado {EmployeeEval + 1} es de {EmployeeSalary}\");"
      ]
    }
  ],
  "metadata": {
    "colab": {
      "provenance": []
    },
    "kernelspec": {
      "display_name": "Python 3",
      "language": "python",
      "name": "python3"
    },
    "language_info": {
      "codemirror_mode": {
        "name": "ipython",
        "version": 3
      },
      "file_extension": ".py",
      "mimetype": "text/x-python",
      "name": "python",
      "nbconvert_exporter": "python",
      "pygments_lexer": "ipython3",
      "version": "3.7.7"
    }
  },
  "nbformat": 4,
  "nbformat_minor": 0
}